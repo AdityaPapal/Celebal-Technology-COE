{
 "cells": [
  {
   "cell_type": "code",
   "execution_count": 11,
   "id": "54dee911-04cc-441d-a2dc-cb524ea70bc6",
   "metadata": {},
   "outputs": [],
   "source": [
    "import numpy as np\n",
    "from numpy import *"
   ]
  },
  {
   "cell_type": "markdown",
   "id": "35ffffa6-94dc-4f42-931d-629b722c59e3",
   "metadata": {},
   "source": [
    "# Array"
   ]
  },
  {
   "cell_type": "code",
   "execution_count": 14,
   "id": "a14d30ad-7d01-4143-8d67-66a6f20fab0d",
   "metadata": {},
   "outputs": [],
   "source": [
    "arr = array([1,2,3,4,5])"
   ]
  },
  {
   "cell_type": "code",
   "execution_count": 22,
   "id": "c38027c2-f022-49a4-aa21-7913e4dce824",
   "metadata": {},
   "outputs": [
    {
     "data": {
      "text/plain": [
       "array([1, 2, 3, 4, 5])"
      ]
     },
     "execution_count": 22,
     "metadata": {},
     "output_type": "execute_result"
    }
   ],
   "source": [
    "arr"
   ]
  },
  {
   "cell_type": "code",
   "execution_count": 24,
   "id": "26d3ca6f-21e3-49d8-875c-f6609617e610",
   "metadata": {},
   "outputs": [
    {
     "data": {
      "text/plain": [
       "dtype('int32')"
      ]
     },
     "execution_count": 24,
     "metadata": {},
     "output_type": "execute_result"
    }
   ],
   "source": [
    "arr.dtype"
   ]
  },
  {
   "cell_type": "code",
   "execution_count": 26,
   "id": "33bce52c-2fa8-4518-87d4-9554fe932b31",
   "metadata": {},
   "outputs": [
    {
     "name": "stdout",
     "output_type": "stream",
     "text": [
      "[1 2 3 4 5]\n"
     ]
    }
   ],
   "source": [
    "print(arr)"
   ]
  },
  {
   "cell_type": "markdown",
   "id": "29675730-33f6-4d9a-b83f-1dcec170f1ba",
   "metadata": {},
   "source": [
    "# Linespace "
   ]
  },
  {
   "cell_type": "code",
   "execution_count": 39,
   "id": "eb6134bf-83f8-47a7-a097-e8eb836ebd72",
   "metadata": {},
   "outputs": [],
   "source": [
    "arr = linspace(0,10,5)"
   ]
  },
  {
   "cell_type": "code",
   "execution_count": 41,
   "id": "face1a44-76f5-4b2e-af18-c990ef1aab0f",
   "metadata": {},
   "outputs": [
    {
     "data": {
      "text/plain": [
       "array([ 0. ,  2.5,  5. ,  7.5, 10. ])"
      ]
     },
     "execution_count": 41,
     "metadata": {},
     "output_type": "execute_result"
    }
   ],
   "source": [
    "arr"
   ]
  },
  {
   "cell_type": "code",
   "execution_count": 51,
   "id": "ce3d0b28-3d1a-4c57-816d-bbaa14ee9aff",
   "metadata": {},
   "outputs": [],
   "source": [
    "arr = linspace(0,100,5)"
   ]
  },
  {
   "cell_type": "code",
   "execution_count": 53,
   "id": "1bb044f1-6d77-4f9e-9da2-b4c645e19739",
   "metadata": {},
   "outputs": [
    {
     "data": {
      "text/plain": [
       "array([  0.,  25.,  50.,  75., 100.])"
      ]
     },
     "execution_count": 53,
     "metadata": {},
     "output_type": "execute_result"
    }
   ],
   "source": [
    "arr"
   ]
  },
  {
   "cell_type": "code",
   "execution_count": 56,
   "id": "99a4add5-3729-4667-893a-5cc7a92cc3d9",
   "metadata": {},
   "outputs": [],
   "source": [
    "arr = linspace(0,100,15)"
   ]
  },
  {
   "cell_type": "code",
   "execution_count": 59,
   "id": "e85cd26a-f511-47d5-ae30-db9612db3b20",
   "metadata": {},
   "outputs": [
    {
     "data": {
      "text/plain": [
       "array([  0.        ,   7.14285714,  14.28571429,  21.42857143,\n",
       "        28.57142857,  35.71428571,  42.85714286,  50.        ,\n",
       "        57.14285714,  64.28571429,  71.42857143,  78.57142857,\n",
       "        85.71428571,  92.85714286, 100.        ])"
      ]
     },
     "execution_count": 59,
     "metadata": {},
     "output_type": "execute_result"
    }
   ],
   "source": [
    "arr"
   ]
  },
  {
   "cell_type": "markdown",
   "id": "8f90e4d3-25e9-42ec-9485-29177dcbfbb8",
   "metadata": {},
   "source": [
    "# aRange"
   ]
  },
  {
   "cell_type": "code",
   "execution_count": 63,
   "id": "5f5ec302-87ba-41ee-be4b-baa4a07d5f93",
   "metadata": {},
   "outputs": [],
   "source": [
    "arr_list = arange(0,10)"
   ]
  },
  {
   "cell_type": "code",
   "execution_count": 66,
   "id": "2c965d2a-ded9-4611-96ae-a2bf5d06f642",
   "metadata": {},
   "outputs": [
    {
     "data": {
      "text/plain": [
       "array([0, 1, 2, 3, 4, 5, 6, 7, 8, 9])"
      ]
     },
     "execution_count": 66,
     "metadata": {},
     "output_type": "execute_result"
    }
   ],
   "source": [
    "arr_list"
   ]
  },
  {
   "cell_type": "code",
   "execution_count": 68,
   "id": "0188407e-13e2-4584-9896-e413f401f11f",
   "metadata": {},
   "outputs": [],
   "source": [
    "arr_list = arange(0,10,2)"
   ]
  },
  {
   "cell_type": "code",
   "execution_count": 70,
   "id": "c37bb992-29bd-44d2-b3b5-7f93eba85f49",
   "metadata": {},
   "outputs": [
    {
     "data": {
      "text/plain": [
       "array([0, 2, 4, 6, 8])"
      ]
     },
     "execution_count": 70,
     "metadata": {},
     "output_type": "execute_result"
    }
   ],
   "source": [
    "arr_list"
   ]
  },
  {
   "cell_type": "markdown",
   "id": "c7a13778-1e79-4e82-8a3a-ef71dfb8f5b7",
   "metadata": {},
   "source": [
    "# Zeros"
   ]
  },
  {
   "cell_type": "code",
   "execution_count": 76,
   "id": "0e44a423-2b42-4c6e-82df-70207a28b595",
   "metadata": {},
   "outputs": [],
   "source": [
    "arr = zeros(10)"
   ]
  },
  {
   "cell_type": "code",
   "execution_count": 78,
   "id": "f0997024-87fc-4593-be42-d1e4aca621c4",
   "metadata": {
    "scrolled": true
   },
   "outputs": [
    {
     "data": {
      "text/plain": [
       "array([0., 0., 0., 0., 0., 0., 0., 0., 0., 0.])"
      ]
     },
     "execution_count": 78,
     "metadata": {},
     "output_type": "execute_result"
    }
   ],
   "source": [
    "arr"
   ]
  },
  {
   "cell_type": "code",
   "execution_count": 93,
   "id": "8a26f9f1-e8e8-4028-b020-444c4cbda53b",
   "metadata": {},
   "outputs": [],
   "source": [
    "arr = zeros((3,3))"
   ]
  },
  {
   "cell_type": "code",
   "execution_count": 95,
   "id": "ac0e2a60-d39c-44ab-b944-a265ac09976d",
   "metadata": {},
   "outputs": [
    {
     "data": {
      "text/plain": [
       "array([[0., 0., 0.],\n",
       "       [0., 0., 0.],\n",
       "       [0., 0., 0.]])"
      ]
     },
     "execution_count": 95,
     "metadata": {},
     "output_type": "execute_result"
    }
   ],
   "source": [
    "arr"
   ]
  },
  {
   "cell_type": "code",
   "execution_count": 97,
   "id": "9465b5d9-b28b-4fa1-b79e-2da70396fc9f",
   "metadata": {},
   "outputs": [
    {
     "data": {
      "text/plain": [
       "array([[False, False, False],\n",
       "       [False, False, False],\n",
       "       [False, False, False]])"
      ]
     },
     "execution_count": 97,
     "metadata": {},
     "output_type": "execute_result"
    }
   ],
   "source": [
    "arr = zeros((3,3),bool)\n",
    "arr"
   ]
  },
  {
   "cell_type": "markdown",
   "id": "e187e4e7-c8b1-4f21-9f76-ca2da8631568",
   "metadata": {},
   "source": [
    "# Ones"
   ]
  },
  {
   "cell_type": "code",
   "execution_count": 82,
   "id": "e784582f-c66e-4e53-9043-64f40588c7d3",
   "metadata": {},
   "outputs": [],
   "source": [
    "arr = ones(10)"
   ]
  },
  {
   "cell_type": "code",
   "execution_count": 84,
   "id": "8d2a2516-2fb1-4bf7-8e54-956c41460c74",
   "metadata": {},
   "outputs": [
    {
     "data": {
      "text/plain": [
       "array([1., 1., 1., 1., 1., 1., 1., 1., 1., 1.])"
      ]
     },
     "execution_count": 84,
     "metadata": {},
     "output_type": "execute_result"
    }
   ],
   "source": [
    "arr"
   ]
  },
  {
   "cell_type": "code",
   "execution_count": 88,
   "id": "5ba43d7b-9012-4f67-b582-e469228aa1b7",
   "metadata": {},
   "outputs": [],
   "source": [
    "arr = ones((3,3))"
   ]
  },
  {
   "cell_type": "code",
   "execution_count": 90,
   "id": "b14b9501-2771-4f91-a2cb-653dce0adf3c",
   "metadata": {},
   "outputs": [
    {
     "data": {
      "text/plain": [
       "array([[1., 1., 1.],\n",
       "       [1., 1., 1.],\n",
       "       [1., 1., 1.]])"
      ]
     },
     "execution_count": 90,
     "metadata": {},
     "output_type": "execute_result"
    }
   ],
   "source": [
    "arr"
   ]
  },
  {
   "cell_type": "code",
   "execution_count": 101,
   "id": "17c7d3ae-e523-4188-a33c-332dfa58ccab",
   "metadata": {},
   "outputs": [
    {
     "data": {
      "text/plain": [
       "array([[ True,  True,  True],\n",
       "       [ True,  True,  True],\n",
       "       [ True,  True,  True]])"
      ]
     },
     "execution_count": 101,
     "metadata": {},
     "output_type": "execute_result"
    }
   ],
   "source": [
    "arr = ones((3,3),bool)\n",
    "arr"
   ]
  },
  {
   "cell_type": "markdown",
   "id": "3b3d253e-04ee-4f66-a175-dcc397f5136a",
   "metadata": {},
   "source": [
    "# Reshae"
   ]
  },
  {
   "cell_type": "code",
   "execution_count": 116,
   "id": "638caa0a-9af9-49a4-8ac6-50a0e46f2b1a",
   "metadata": {},
   "outputs": [],
   "source": [
    "arr = arange(1,11)"
   ]
  },
  {
   "cell_type": "code",
   "execution_count": 118,
   "id": "267a79be-90c2-426f-ab51-d25b4fcda2f4",
   "metadata": {},
   "outputs": [
    {
     "data": {
      "text/plain": [
       "array([ 1,  2,  3,  4,  5,  6,  7,  8,  9, 10])"
      ]
     },
     "execution_count": 118,
     "metadata": {},
     "output_type": "execute_result"
    }
   ],
   "source": [
    "arr"
   ]
  },
  {
   "cell_type": "code",
   "execution_count": 120,
   "id": "a1e981d7-405d-4a37-94e6-b194ef340741",
   "metadata": {},
   "outputs": [],
   "source": [
    "arr = arr.reshape(2,5)"
   ]
  },
  {
   "cell_type": "code",
   "execution_count": 122,
   "id": "266a2ddf-2dbf-4ed2-8845-98a3dc93894a",
   "metadata": {},
   "outputs": [
    {
     "data": {
      "text/plain": [
       "array([[ 1,  2,  3,  4,  5],\n",
       "       [ 6,  7,  8,  9, 10]])"
      ]
     },
     "execution_count": 122,
     "metadata": {},
     "output_type": "execute_result"
    }
   ],
   "source": [
    "arr"
   ]
  },
  {
   "cell_type": "code",
   "execution_count": 124,
   "id": "41fba423-98b0-45dc-b9d0-88eb4e9608b8",
   "metadata": {},
   "outputs": [],
   "source": [
    "arr = arange(1,10)"
   ]
  },
  {
   "cell_type": "code",
   "execution_count": 126,
   "id": "3f1c554d-c24c-460a-ba4a-ad3335200ceb",
   "metadata": {},
   "outputs": [
    {
     "data": {
      "text/plain": [
       "array([[1, 2, 3],\n",
       "       [4, 5, 6],\n",
       "       [7, 8, 9]])"
      ]
     },
     "execution_count": 126,
     "metadata": {},
     "output_type": "execute_result"
    }
   ],
   "source": [
    "arr.reshape(3,3)"
   ]
  },
  {
   "cell_type": "code",
   "execution_count": null,
   "id": "ff7ef6b7-0e3a-4601-a682-a245ececdc69",
   "metadata": {},
   "outputs": [],
   "source": []
  },
  {
   "cell_type": "markdown",
   "id": "cb4e9950-e46e-4ba6-b704-4e0562b5fe46",
   "metadata": {},
   "source": [
    "# flatten"
   ]
  },
  {
   "cell_type": "code",
   "execution_count": 132,
   "id": "1d6ae575-e5da-4803-b974-dd3ad0cb9ba6",
   "metadata": {},
   "outputs": [],
   "source": [
    "arr = arange(1,10).reshape(3,3,)"
   ]
  },
  {
   "cell_type": "code",
   "execution_count": 134,
   "id": "3c114488-1e71-411e-9d43-a8d3d2c0c163",
   "metadata": {},
   "outputs": [
    {
     "data": {
      "text/plain": [
       "array([[1, 2, 3],\n",
       "       [4, 5, 6],\n",
       "       [7, 8, 9]])"
      ]
     },
     "execution_count": 134,
     "metadata": {},
     "output_type": "execute_result"
    }
   ],
   "source": [
    "arr"
   ]
  },
  {
   "cell_type": "code",
   "execution_count": 144,
   "id": "9c8ef246-7cf9-4a12-8d44-a6d941ea05f5",
   "metadata": {},
   "outputs": [],
   "source": [
    "arr = arr.flatten()"
   ]
  },
  {
   "cell_type": "code",
   "execution_count": 146,
   "id": "6518fc70-904b-4336-bd78-c7eb47f3bb75",
   "metadata": {},
   "outputs": [
    {
     "data": {
      "text/plain": [
       "array([1, 2, 3, 4, 5, 6, 7, 8, 9])"
      ]
     },
     "execution_count": 146,
     "metadata": {},
     "output_type": "execute_result"
    }
   ],
   "source": [
    "arr"
   ]
  },
  {
   "cell_type": "code",
   "execution_count": null,
   "id": "a41c869a-0511-4464-9283-725bd11c2d24",
   "metadata": {},
   "outputs": [],
   "source": []
  },
  {
   "cell_type": "code",
   "execution_count": 149,
   "id": "a0480658-b054-4e16-8f21-d4d6d7ec414d",
   "metadata": {},
   "outputs": [],
   "source": [
    "# Transpose"
   ]
  },
  {
   "cell_type": "code",
   "execution_count": 155,
   "id": "59e6fbf1-0535-4fa8-92ce-5429b8a2f000",
   "metadata": {},
   "outputs": [],
   "source": [
    "arr = arange(1,11).reshape(2,5)"
   ]
  },
  {
   "cell_type": "code",
   "execution_count": 157,
   "id": "248e10e8-a596-45e7-85ff-d3d022fca8ce",
   "metadata": {},
   "outputs": [
    {
     "data": {
      "text/plain": [
       "array([[ 1,  2,  3,  4,  5],\n",
       "       [ 6,  7,  8,  9, 10]])"
      ]
     },
     "execution_count": 157,
     "metadata": {},
     "output_type": "execute_result"
    }
   ],
   "source": [
    "arr"
   ]
  },
  {
   "cell_type": "code",
   "execution_count": 159,
   "id": "ce2badbd-d081-4db0-a0c4-1e61f40b9f10",
   "metadata": {},
   "outputs": [],
   "source": [
    "arr = arr.transpose()"
   ]
  },
  {
   "cell_type": "code",
   "execution_count": 161,
   "id": "bb662053-9033-41f5-a40c-9a333a8ad03e",
   "metadata": {},
   "outputs": [
    {
     "data": {
      "text/plain": [
       "array([[ 1,  6],\n",
       "       [ 2,  7],\n",
       "       [ 3,  8],\n",
       "       [ 4,  9],\n",
       "       [ 5, 10]])"
      ]
     },
     "execution_count": 161,
     "metadata": {},
     "output_type": "execute_result"
    }
   ],
   "source": [
    "arr"
   ]
  },
  {
   "cell_type": "code",
   "execution_count": 163,
   "id": "348eec16-6073-4deb-9183-5b1b084bd259",
   "metadata": {},
   "outputs": [],
   "source": [
    "arr = arange(1,10).reshape(3,3)"
   ]
  },
  {
   "cell_type": "code",
   "execution_count": 165,
   "id": "fade189b-013e-4baf-8e3e-1b2cb978c90c",
   "metadata": {},
   "outputs": [
    {
     "data": {
      "text/plain": [
       "array([[1, 2, 3],\n",
       "       [4, 5, 6],\n",
       "       [7, 8, 9]])"
      ]
     },
     "execution_count": 165,
     "metadata": {},
     "output_type": "execute_result"
    }
   ],
   "source": [
    "arr"
   ]
  },
  {
   "cell_type": "code",
   "execution_count": 171,
   "id": "802f51f4-2dcf-40f8-b61b-7ee8cbf8389b",
   "metadata": {},
   "outputs": [],
   "source": [
    "arr = arr.transpose()"
   ]
  },
  {
   "cell_type": "code",
   "execution_count": 173,
   "id": "0ff9e31b-1878-4206-88ee-93e4673f3ca3",
   "metadata": {},
   "outputs": [
    {
     "data": {
      "text/plain": [
       "array([[1, 4, 7],\n",
       "       [2, 5, 8],\n",
       "       [3, 6, 9]])"
      ]
     },
     "execution_count": 173,
     "metadata": {},
     "output_type": "execute_result"
    }
   ],
   "source": [
    "arr"
   ]
  },
  {
   "cell_type": "code",
   "execution_count": null,
   "id": "d1ffbbc5-6a12-46b7-9944-f3492c3f00eb",
   "metadata": {},
   "outputs": [],
   "source": []
  },
  {
   "cell_type": "code",
   "execution_count": null,
   "id": "07a8fd53-7c14-46de-86f8-a302ec7b2e18",
   "metadata": {},
   "outputs": [],
   "source": []
  },
  {
   "cell_type": "markdown",
   "id": "5a89b0b9-5d1b-438d-84ec-418b079f5207",
   "metadata": {},
   "source": [
    "# Array Slicing "
   ]
  },
  {
   "cell_type": "code",
   "execution_count": 180,
   "id": "014a890a-58db-4bdd-a35d-74152090ac78",
   "metadata": {},
   "outputs": [
    {
     "data": {
      "text/plain": [
       "array([[  1,   2,   3,   4,   5,   6,   7,   8,   9,  10],\n",
       "       [ 11,  12,  13,  14,  15,  16,  17,  18,  19,  20],\n",
       "       [ 21,  22,  23,  24,  25,  26,  27,  28,  29,  30],\n",
       "       [ 31,  32,  33,  34,  35,  36,  37,  38,  39,  40],\n",
       "       [ 41,  42,  43,  44,  45,  46,  47,  48,  49,  50],\n",
       "       [ 51,  52,  53,  54,  55,  56,  57,  58,  59,  60],\n",
       "       [ 61,  62,  63,  64,  65,  66,  67,  68,  69,  70],\n",
       "       [ 71,  72,  73,  74,  75,  76,  77,  78,  79,  80],\n",
       "       [ 81,  82,  83,  84,  85,  86,  87,  88,  89,  90],\n",
       "       [ 91,  92,  93,  94,  95,  96,  97,  98,  99, 100]])"
      ]
     },
     "execution_count": 180,
     "metadata": {},
     "output_type": "execute_result"
    }
   ],
   "source": [
    "arr = np.arange(1,101).reshape(10,10)\n",
    "arr"
   ]
  },
  {
   "cell_type": "code",
   "execution_count": 182,
   "id": "25a9eeed-af07-49e1-b72b-503e19d7bbf2",
   "metadata": {},
   "outputs": [
    {
     "data": {
      "text/plain": [
       "1"
      ]
     },
     "execution_count": 182,
     "metadata": {},
     "output_type": "execute_result"
    }
   ],
   "source": [
    "arr[0][0]"
   ]
  },
  {
   "cell_type": "code",
   "execution_count": 188,
   "id": "a08178be-bd26-4524-9b58-7faba0409853",
   "metadata": {},
   "outputs": [
    {
     "data": {
      "text/plain": [
       "array([[ 1],\n",
       "       [11],\n",
       "       [21],\n",
       "       [31],\n",
       "       [41],\n",
       "       [51],\n",
       "       [61],\n",
       "       [71],\n",
       "       [81],\n",
       "       [91]])"
      ]
     },
     "execution_count": 188,
     "metadata": {},
     "output_type": "execute_result"
    }
   ],
   "source": [
    "arr[:,0:1] # [row,col]"
   ]
  },
  {
   "cell_type": "code",
   "execution_count": 192,
   "id": "276b6a85-4896-4ff4-9e00-180c77f97f43",
   "metadata": {},
   "outputs": [
    {
     "data": {
      "text/plain": [
       "array([[ 1,  2,  3,  4,  5],\n",
       "       [11, 12, 13, 14, 15],\n",
       "       [21, 22, 23, 24, 25],\n",
       "       [31, 32, 33, 34, 35],\n",
       "       [41, 42, 43, 44, 45]])"
      ]
     },
     "execution_count": 192,
     "metadata": {},
     "output_type": "execute_result"
    }
   ],
   "source": [
    "arr[0:5,:5]"
   ]
  },
  {
   "cell_type": "code",
   "execution_count": 198,
   "id": "b77243ba-e767-469d-ae60-375b74f3b482",
   "metadata": {},
   "outputs": [
    {
     "data": {
      "text/plain": [
       "array([[ 10],\n",
       "       [ 20],\n",
       "       [ 30],\n",
       "       [ 40],\n",
       "       [ 50],\n",
       "       [ 60],\n",
       "       [ 70],\n",
       "       [ 80],\n",
       "       [ 90],\n",
       "       [100]])"
      ]
     },
     "execution_count": 198,
     "metadata": {},
     "output_type": "execute_result"
    }
   ],
   "source": [
    "arr[:,-1:]"
   ]
  },
  {
   "cell_type": "code",
   "execution_count": 200,
   "id": "2469ba77-ad04-424d-b23c-161a8621917c",
   "metadata": {},
   "outputs": [
    {
     "data": {
      "text/plain": [
       "array([[ 91,  92,  93,  94,  95,  96,  97,  98,  99, 100]])"
      ]
     },
     "execution_count": 200,
     "metadata": {},
     "output_type": "execute_result"
    }
   ],
   "source": [
    "arr[-1:,:]"
   ]
  },
  {
   "cell_type": "code",
   "execution_count": null,
   "id": "4ce769ae-0108-4b77-a717-4ee7e41b3ba6",
   "metadata": {},
   "outputs": [],
   "source": []
  }
 ],
 "metadata": {
  "kernelspec": {
   "display_name": "Python 3 (ipykernel)",
   "language": "python",
   "name": "python3"
  },
  "language_info": {
   "codemirror_mode": {
    "name": "ipython",
    "version": 3
   },
   "file_extension": ".py",
   "mimetype": "text/x-python",
   "name": "python",
   "nbconvert_exporter": "python",
   "pygments_lexer": "ipython3",
   "version": "3.11.7"
  }
 },
 "nbformat": 4,
 "nbformat_minor": 5
}
